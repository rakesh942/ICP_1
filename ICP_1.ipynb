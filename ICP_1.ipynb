{
  "cells": [
    {
      "cell_type": "code",
      "execution_count": null,
      "id": "78c1b2d6",
      "metadata": {
        "colab": {
          "base_uri": "https://localhost:8080/",
          "height": 36
        },
        "id": "78c1b2d6",
        "outputId": "8f9ce67d-cc18-46a7-f3df-7711b7ea30b3"
      },
      "outputs": [
        {
          "output_type": "execute_result",
          "data": {
            "text/plain": [
              "'htyp'"
            ],
            "application/vnd.google.colaboratory.intrinsic+json": {
              "type": "string"
            }
          },
          "metadata": {},
          "execution_count": 6
        }
      ],
      "source": [
        "#1Q\n",
        "str=\"python\"\n",
        "str[:-2][::-1]\n"
      ]
    },
    {
      "cell_type": "code",
      "execution_count": null,
      "id": "cb488df2",
      "metadata": {
        "colab": {
          "base_uri": "https://localhost:8080/"
        },
        "id": "cb488df2",
        "outputId": "75eafbd3-6621-4276-982b-9888cbdf75e0"
      },
      "outputs": [
        {
          "output_type": "execute_result",
          "data": {
            "text/plain": [
              "15"
            ]
          },
          "metadata": {},
          "execution_count": 1
        }
      ],
      "source": [
        "#2Q\n",
        "A=7; B=8\n",
        "x=A+B #Addition\n",
        "x"
      ]
    },
    {
      "cell_type": "code",
      "execution_count": null,
      "id": "fc612616",
      "metadata": {
        "colab": {
          "base_uri": "https://localhost:8080/"
        },
        "id": "fc612616",
        "outputId": "10cdee24-338d-406c-87b8-c5bf171467c4"
      },
      "outputs": [
        {
          "output_type": "execute_result",
          "data": {
            "text/plain": [
              "-1"
            ]
          },
          "metadata": {},
          "execution_count": 4
        }
      ],
      "source": [
        "y=A-B #subtraction\n",
        "y"
      ]
    },
    {
      "cell_type": "code",
      "execution_count": null,
      "id": "048ce995",
      "metadata": {
        "colab": {
          "base_uri": "https://localhost:8080/"
        },
        "id": "048ce995",
        "outputId": "d3363341-f8ac-4e5c-b15d-676a00af2b6e"
      },
      "outputs": [
        {
          "output_type": "execute_result",
          "data": {
            "text/plain": [
              "0.875"
            ]
          },
          "metadata": {},
          "execution_count": 5
        }
      ],
      "source": [
        "o=A/B #Division\n",
        "o"
      ]
    },
    {
      "cell_type": "code",
      "execution_count": null,
      "id": "44a72356",
      "metadata": {
        "colab": {
          "base_uri": "https://localhost:8080/"
        },
        "id": "44a72356",
        "outputId": "03491e71-1066-4ea2-f7ae-08bf5804e451"
      },
      "outputs": [
        {
          "output_type": "execute_result",
          "data": {
            "text/plain": [
              "56"
            ]
          },
          "metadata": {},
          "execution_count": 2
        }
      ],
      "source": [
        "p=A*B #Multiplication\n",
        "p"
      ]
    },
    {
      "cell_type": "code",
      "execution_count": null,
      "id": "3ab621f6",
      "metadata": {
        "colab": {
          "base_uri": "https://localhost:8080/",
          "height": 36
        },
        "id": "3ab621f6",
        "outputId": "f987f737-9c38-414c-b5ec-96a0873e2dd1"
      },
      "outputs": [
        {
          "output_type": "execute_result",
          "data": {
            "text/plain": [
              "'I love playing with Pythons'"
            ],
            "application/vnd.google.colaboratory.intrinsic+json": {
              "type": "string"
            }
          },
          "metadata": {},
          "execution_count": 9
        }
      ],
      "source": [
        "#3Q\n",
        "str=\"I love playing with Python\"\n",
        "str.replace('Python','Pythons')"
      ]
    },
    {
      "cell_type": "code",
      "execution_count": null,
      "id": "b46c865f",
      "metadata": {
        "colab": {
          "base_uri": "https://localhost:8080/"
        },
        "id": "b46c865f",
        "outputId": "4fb22da7-8a81-4740-b9c2-338eea0301c0"
      },
      "outputs": [
        {
          "output_type": "stream",
          "name": "stdout",
          "text": [
            "Enter your score:95\n",
            "Grade:A\n"
          ]
        }
      ],
      "source": [
        "#4Q\n",
        "Score=float(input(\"Enter your score:\"))\n",
        "if Score>90:\n",
        "    print(\"Grade:A\")\n",
        "elif Score>=80 and Score<90:\n",
        "    print(\"Grade:B\")\n",
        "elif Score>=70 and Score<80:\n",
        "    print(\"Grade:C\")\n",
        "elif Score>=60 and Score<70:\n",
        "    print(\"Grade:D\")\n",
        "elif Score<=59:\n",
        "    print(\"Grade:F\")\n"
      ]
    },
    {
      "cell_type": "code",
      "execution_count": null,
      "id": "203fb910",
      "metadata": {
        "id": "203fb910"
      },
      "outputs": [],
      "source": []
    }
  ],
  "metadata": {
    "kernelspec": {
      "display_name": "Python 3 (ipykernel)",
      "language": "python",
      "name": "python3"
    },
    "language_info": {
      "codemirror_mode": {
        "name": "ipython",
        "version": 3
      },
      "file_extension": ".py",
      "mimetype": "text/x-python",
      "name": "python",
      "nbconvert_exporter": "python",
      "pygments_lexer": "ipython3",
      "version": "3.9.13"
    },
    "colab": {
      "provenance": []
    }
  },
  "nbformat": 4,
  "nbformat_minor": 5
}